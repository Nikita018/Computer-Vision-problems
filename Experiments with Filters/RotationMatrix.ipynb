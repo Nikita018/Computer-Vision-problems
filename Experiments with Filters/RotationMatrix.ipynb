{
  "nbformat": 4,
  "nbformat_minor": 0,
  "metadata": {
    "colab": {
      "name": "RotationMatrix.ipynb",
      "provenance": [],
      "collapsed_sections": [],
      "authorship_tag": "ABX9TyMczOcBkf/FY4Yr5erOCE6w",
      "include_colab_link": true
    },
    "kernelspec": {
      "name": "python3",
      "display_name": "Python 3"
    }
  },
  "cells": [
    {
      "cell_type": "markdown",
      "metadata": {
        "id": "view-in-github",
        "colab_type": "text"
      },
      "source": [
        "<a href=\"https://colab.research.google.com/github/Nikita018/Computer-Vision-problems/blob/master/Experiments%20with%20Filters/RotationMatrix.ipynb\" target=\"_parent\"><img src=\"https://colab.research.google.com/assets/colab-badge.svg\" alt=\"Open In Colab\"/></a>"
      ]
    },
    {
      "cell_type": "code",
      "metadata": {
        "id": "sv50ec870T5s",
        "colab_type": "code",
        "colab": {}
      },
      "source": [
        "import numpy as np\n",
        "import math"
      ],
      "execution_count": 0,
      "outputs": []
    },
    {
      "cell_type": "code",
      "metadata": {
        "id": "d5xud_RQ0uuR",
        "colab_type": "code",
        "colab": {}
      },
      "source": [
        "theta=math.pi/2"
      ],
      "execution_count": 0,
      "outputs": []
    },
    {
      "cell_type": "code",
      "metadata": {
        "id": "rxmydsmI0xcb",
        "colab_type": "code",
        "outputId": "c035f1eb-889c-4760-84aa-115ef9491bb8",
        "colab": {
          "base_uri": "https://localhost:8080/",
          "height": 67
        }
      },
      "source": [
        "# Rotation around X axis\n",
        "Rx=np.array([[1,0,0],  \n",
        "             [0,math.cos(theta), -math.sin(theta)],\n",
        "             [0, math.sin(theta),math.cos(theta)]])\n",
        "#print(Rx)\n",
        "A = np.array([1,1,1])\n",
        "#print(np.matmul(Rx,A))\n",
        "# Rotation around Y axis\n",
        "Ry=np.array([[math.cos(theta),0,math.sin(theta)],  \n",
        "             [0,1, 0],\n",
        "             [-math.sin(theta),0,math.cos(theta)]])\n",
        "\n",
        "#print(Ry)\n",
        "# Rotation around Z axis\n",
        "Rz=np.array([[math.cos(theta),-math.sin(theta),0],  \n",
        "             [math.sin(theta),math.cos(theta), 0],\n",
        "             [0, 0,1]])\n",
        "print(Rz)"
      ],
      "execution_count": 0,
      "outputs": [
        {
          "output_type": "stream",
          "text": [
            "[[ 6.123234e-17 -1.000000e+00  0.000000e+00]\n",
            " [ 1.000000e+00  6.123234e-17  0.000000e+00]\n",
            " [ 0.000000e+00  0.000000e+00  1.000000e+00]]\n"
          ],
          "name": "stdout"
        }
      ]
    },
    {
      "cell_type": "code",
      "metadata": {
        "id": "LoeGb8Es1DG7",
        "colab_type": "code",
        "outputId": "f7456631-f3b1-46c3-b92e-2de3bd7d49e8",
        "colab": {
          "base_uri": "https://localhost:8080/",
          "height": 67
        }
      },
      "source": [
        "Rzy = np.matmul(Rz,Ry) # This matrix resultant will have rotation across y axis first and z axis next\n",
        "print(Rzy)"
      ],
      "execution_count": 0,
      "outputs": [
        {
          "output_type": "stream",
          "text": [
            "[[ 3.74939946e-33 -1.00000000e+00  6.12323400e-17]\n",
            " [ 6.12323400e-17  6.12323400e-17  1.00000000e+00]\n",
            " [-1.00000000e+00  0.00000000e+00  6.12323400e-17]]\n"
          ],
          "name": "stdout"
        }
      ]
    },
    {
      "cell_type": "code",
      "metadata": {
        "id": "_8yIeJEE5WoC",
        "colab_type": "code",
        "outputId": "8a1eb9b3-6648-4464-adcb-148ac6b09071",
        "colab": {
          "base_uri": "https://localhost:8080/",
          "height": 67
        }
      },
      "source": [
        "Ryz=np.matmul(Ry,Rz) # This matrix resultant will have rotation across z axis first and y axis next\n",
        "print(Ryz)"
      ],
      "execution_count": 0,
      "outputs": [
        {
          "output_type": "stream",
          "text": [
            "[[ 3.74939946e-33 -6.12323400e-17  1.00000000e+00]\n",
            " [ 1.00000000e+00  6.12323400e-17  0.00000000e+00]\n",
            " [-6.12323400e-17  1.00000000e+00  6.12323400e-17]]\n"
          ],
          "name": "stdout"
        }
      ]
    },
    {
      "cell_type": "code",
      "metadata": {
        "id": "0fW_aHG48L1P",
        "colab_type": "code",
        "outputId": "8405bc1f-9dfd-4be3-a473-51de980574bd",
        "colab": {
          "base_uri": "https://localhost:8080/",
          "height": 67
        }
      },
      "source": [
        "A = np.array([[10],[0],[20]])\n",
        "result = np.matmul(Ryz,A)\n",
        "print(result)\n",
        "# Resultant after rotation in z axis and then in y axis\n",
        "# Result : [20,10,0]"
      ],
      "execution_count": 0,
      "outputs": [
        {
          "output_type": "stream",
          "text": [
            "[[2.000000e+01]\n",
            " [1.000000e+01]\n",
            " [6.123234e-16]]\n"
          ],
          "name": "stdout"
        }
      ]
    },
    {
      "cell_type": "code",
      "metadata": {
        "id": "TM1ZLTvK6HN0",
        "colab_type": "code",
        "outputId": "5759fac7-bf59-4d0a-aa63-0a170725a83a",
        "colab": {
          "base_uri": "https://localhost:8080/",
          "height": 84
        }
      },
      "source": [
        ""
      ],
      "execution_count": 0,
      "outputs": [
        {
          "output_type": "stream",
          "text": [
            "[[1 2]\n",
            " [2 1]]\n",
            "[[1 2]\n",
            " [2 1]]\n"
          ],
          "name": "stdout"
        }
      ]
    },
    {
      "cell_type": "code",
      "metadata": {
        "id": "QV9YbDbJ7wfH",
        "colab_type": "code",
        "colab": {}
      },
      "source": [
        "e"
      ],
      "execution_count": 0,
      "outputs": []
    }
  ]
}